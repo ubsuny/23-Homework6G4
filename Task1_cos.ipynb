{
  "nbformat": 4,
  "nbformat_minor": 0,
  "metadata": {
    "colab": {
      "provenance": [],
      "toc_visible": true,
      "authorship_tag": "ABX9TyPAb1jz+l3oicU3bij2HqcM",
      "include_colab_link": true
    },
    "kernelspec": {
      "name": "python3",
      "display_name": "Python 3"
    },
    "language_info": {
      "name": "python"
    }
  },
  "cells": [
    {
      "cell_type": "markdown",
      "metadata": {
        "id": "view-in-github",
        "colab_type": "text"
      },
      "source": [
        "<a href=\"https://colab.research.google.com/github/poojashresthacode/23-Homework6G4/blob/cos_function/Task1_cos.ipynb\" target=\"_parent\"><img src=\"https://colab.research.google.com/assets/colab-badge.svg\" alt=\"Open In Colab\"/></a>"
      ]
    },
    {
      "cell_type": "code",
      "execution_count": null,
      "metadata": {
        "id": "4l14JEfSWcFv"
      },
      "outputs": [],
      "source": [
        "import numpy as np\n",
        "\n",
        "\n",
        "def simpson(f, a, b, n):\n",
        "    \"\"\"Approximates the definite integral of f from a to b by\n",
        "    the composite Simpson's rule, using n subintervals.\n",
        "    From http://en.wikipedia.org/wiki/Simpson's_rule\n",
        "    \"\"\"\n",
        "    h = (b - a) / n\n",
        "    i = np.arange(0,n)\n",
        "\n",
        "    s = f(a) + f(b)\n",
        "    s += 4 * np.sum( f( a + i[1::2] * h ) )\n",
        "    s += 2 * np.sum( f( a + i[2:-1:2] * h ) )\n",
        "\n",
        "    return s * h / 3\n",
        "\n",
        "def trapezoid(f, a, b, n):\n",
        "    \"\"\"Approximates the definite integral of f from a to b by\n",
        "    the composite trapezoidal rule, using n subintervals.\n",
        "    From http://en.wikipedia.org/wiki/Trapezoidal_rule\n",
        "    \"\"\"\n",
        "    h = (b - a) / n\n",
        "    s = f(a) + f(b)\n",
        "    i = np.arange(0,n)\n",
        "    s += 2 * np.sum( f(a + i[1:] * h) )\n",
        "    return s * h / 2\n",
        "\n",
        "\n",
        "def adaptive_trapezoid(f, a, b, acc, output=False):\n",
        "    \"\"\"\n",
        "    Uses the adaptive trapezoidal method to compute the definite integral\n",
        "    of f from a to b to desired accuracy acc.\n",
        "    \"\"\"\n",
        "    old_s = np.inf\n",
        "    h = b - a\n",
        "    n = 1\n",
        "    s = (f(a) + f(b)) * 0.5\n",
        "    if output == True :\n",
        "        print (\"N = \" + str(n+1) + \",  Integral = \" + str( h*s ))\n",
        "    while abs(h * (old_s - s*0.5)) > acc :\n",
        "        old_s = s\n",
        "        for i in np.arange(n) :\n",
        "            s += f(a + (i + 0.5) * h)\n",
        "        n *= 2.\n",
        "        h *= 0.5\n",
        "        if output == True :\n",
        "            print (\"N = \" + str(n) + \",  Integral = \" + str( h*s ))\n",
        "    return h * s"
      ]
    },
    {
      "cell_type": "code",
      "source": [
        "%%writefile calculus.py"
      ],
      "metadata": {
        "colab": {
          "base_uri": "https://localhost:8080/"
        },
        "id": "reGadhSHW2Cb",
        "outputId": "c016e89f-ad4b-4c8e-964d-bc7a1df91efb"
      },
      "execution_count": null,
      "outputs": [
        {
          "output_type": "stream",
          "name": "stdout",
          "text": [
            "Writing calculus.py\n"
          ]
        }
      ]
    },
    {
      "cell_type": "code",
      "source": [
        "import numpy as np\n",
        "import matplotlib.pyplot as plt\n",
        "from calculus import *\n"
      ],
      "metadata": {
        "id": "fEJNZj8gXAU9"
      },
      "execution_count": null,
      "outputs": []
    },
    {
      "cell_type": "code",
      "source": [
        "\n",
        "# Define the function exp(-1/x)\n",
        "def cos_func(x):\n",
        "    # Avoid zero\n",
        "    epsilon = 1e-10\n",
        "    return np.where(np.abs(x) < epsilon, np.nan, np.cos(1 / x))\n",
        "\n",
        "# Define integration bounds and the number of subintervals\n",
        "a_cos = 1e-10\n",
        "b_cos = np.pi*5\n",
        "n_cos = 10\n",
        "\n",
        "# Calculate and print results using the trapezoidal rule\n",
        "ans_cos_trapezoid = trapezoid(cos_func, a_cos, b_cos, n_cos)\n",
        "print('Trapezoidal rule result for cos(1/x):', ans_cos_trapezoid)\n",
        "\n",
        "# Calculate and print results using Simpson's rule\n",
        "ans_cos_simpson = simpson(cos_func, a_cos, b_cos, n_cos)\n",
        "print('Simpson\\'s rule result for cos(1/x):', ans_cos_simpson)\n",
        "\n",
        "# Calculate and print the result using the adaptive trapezoidal rule for cos(1/x)\n",
        "ans_adaptive_trapezoid_cos = adaptive_trapezoid(cos_func, a_cos, b_cos, 0.0001, output=True)\n",
        "print('Adaptive trapezoidal rule result for cos(-1/x):', ans_adaptive_trapezoid_cos)\n",
        "\n",
        "# Plot the function\n",
        "x_values_cos = np.linspace(a_cos, b_cos, 1000)\n",
        "y_values_cos = cos_func(x_values_cos)\n",
        "\n",
        "plt.figure(figsize=(10, 6))\n",
        "\n",
        "# Plot the function\n",
        "plt.plot(x_values_cos, y_values_cos, label=r'$\\cos(1/x)$', color='green')\n",
        "\n",
        "# Highlight the integration area\n",
        "plt.axvline(a_cos, color='red', linestyle='--', label='Integration Bounds')\n",
        "plt.axvline(b_cos, color='red', linestyle='--')\n",
        "\n",
        "# Show the legend\n",
        "plt.legend()\n",
        "\n",
        "# Set plot labels and title\n",
        "plt.xlabel('x')\n",
        "plt.ylabel(r'$\\cos(1/x)$')\n",
        "plt.title('Function $cos(1/x)$ and its Integration')\n",
        "\n",
        "# Show the plot\n",
        "plt.show()\n",
        "\n",
        "\n",
        "\n",
        "\n"
      ],
      "metadata": {
        "colab": {
          "base_uri": "https://localhost:8080/",
          "height": 965
        },
        "id": "nimm_vGvWikf",
        "outputId": "963c2aaa-7049-4f6f-9e07-e36c86323cad"
      },
      "execution_count": 7,
      "outputs": [
        {
          "output_type": "stream",
          "name": "stdout",
          "text": [
            "Trapezoidal rule result for cos(1/x): 15.128082019278253\n",
            "Simpson's rule result for cos(1/x): 15.077326591974334\n",
            "N = 2,  Integral = 14.69553699486812\n",
            "N = 2.0,  Integral = 15.13817411175341\n",
            "N = 4.0,  Integral = 15.28229266873223\n",
            "N = 8.0,  Integral = 15.202338910677666\n",
            "N = 16.0,  Integral = 14.885908897345049\n",
            "N = 32.0,  Integral = 14.368298703127117\n",
            "N = 64.0,  Integral = 14.225510442707169\n",
            "N = 128.0,  Integral = 14.139288959761373\n",
            "N = 256.0,  Integral = 14.12643665624567\n",
            "N = 512.0,  Integral = 14.169098779968605\n",
            "N = 1024.0,  Integral = 14.150337041374877\n",
            "N = 2048.0,  Integral = 14.176954635176106\n",
            "N = 4096.0,  Integral = 14.17167798219445\n",
            "N = 8192.0,  Integral = 14.167004776519086\n",
            "N = 16384.0,  Integral = 14.170172686932725\n",
            "N = 32768.0,  Integral = 14.167615786301804\n",
            "N = 65536.0,  Integral = 14.169510790916057\n",
            "N = 131072.0,  Integral = 14.169930771221303\n",
            "N = 262144.0,  Integral = 14.169128304018258\n",
            "N = 524288.0,  Integral = 14.169121853224096\n",
            "Adaptive trapezoidal rule result for cos(-1/x): 14.169121853224096\n"
          ]
        },
        {
          "output_type": "display_data",
          "data": {
            "text/plain": [
              "<Figure size 1000x600 with 1 Axes>"
            ],
            "image/png": "[encoded data removed]"
          },
          "metadata": {}
        }
      ]
    },
    {
      "cell_type": "code",
      "source": [
        "import numpy as np\n",
        "\n",
        "def calculate_accuracy(true_value, computed_value):\n",
        "    \"\"\"\n",
        "    Calculates the accuracy in terms of correct digits.\n",
        "    \"\"\"\n",
        "    true_str = \"{:.10f}\".format(true_value)\n",
        "    computed_str = \"{:.10f}\".format(computed_value)\n",
        "\n",
        "    num_correct_digits = sum(a == b for a, b in zip(true_str, computed_str))\n",
        "    return num_correct_digits\n",
        "\n",
        "def compare_integration_methods(true_value, method_results):\n",
        "    \"\"\"\n",
        "    Compares the accuracies and efficiencies of integration methods.\n",
        "    \"\"\"\n",
        "    print(\"Integration Method\\tAccuracy (Correct Digits)\\tEfficiency (Number of Steps)\")\n",
        "    print(\"-\" * 70)\n",
        "\n",
        "    for method, (result, steps) in method_results.items():\n",
        "        accuracy = calculate_accuracy(true_value, result)\n",
        "        print(f\"{method}\\t\\t\\t{accuracy}\\t\\t\\t\\t{steps}\")\n",
        "\n",
        "# Define the true integral value (you need to set this based on your expectations)\n",
        "true_integral_value_cos = 14.1691218532  # Update this with the actual true value\n",
        "\n",
        "# Results obtained from integration methods for cos(1/x)\n",
        "method_results_cos = {\n",
        "    \"Trapezoidal Rule\": (15.128082019278253, 10),\n",
        "    \"Simpson's Rule\": (15.077326591974334, 10),\n",
        "    \"Adaptive Trapezoidal Rule\": (14.169121853224096, 524288)\n",
        "}\n",
        "\n",
        "# Compare accuracies and efficiencies\n",
        "compare_integration_methods(true_integral_value_cos, method_results_cos)\n"
      ],
      "metadata": {
        "colab": {
          "base_uri": "https://localhost:8080/"
        },
        "id": "6bIZ0dJmwXq_",
        "outputId": "d118212d-9328-4081-d52e-c2929e4265c0"
      },
      "execution_count": 8,
      "outputs": [
        {
          "output_type": "stream",
          "name": "stdout",
          "text": [
            "Integration Method\tAccuracy (Correct Digits)\tEfficiency (Number of Steps)\n",
            "----------------------------------------------------------------------\n",
            "Trapezoidal Rule\t\t\t3\t\t\t\t10\n",
            "Simpson's Rule\t\t\t3\t\t\t\t10\n",
            "Adaptive Trapezoidal Rule\t\t\t13\t\t\t\t524288\n"
          ]
        }
      ]
    }
  ]
}